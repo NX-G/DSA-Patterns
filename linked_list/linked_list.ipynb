{
 "cells": [
  {
   "cell_type": "markdown",
   "id": "80e475ea",
   "metadata": {},
   "source": [
    "## linked_list\n",
    "\n",
    "Sequence of Events/Things"
   ]
  },
  {
   "cell_type": "code",
   "execution_count": 19,
   "id": "585b8948",
   "metadata": {},
   "outputs": [],
   "source": [
    "# Node - {Data, Next}\n",
    "# LL - Head Tail\n",
    "\n",
    "class Node:\n",
    "    def __init__(self,data):\n",
    "        self.data = data\n",
    "        self.next = None\n",
    "\n",
    "class LinkedList:\n",
    "    def __init__(self):\n",
    "        self.head = None\n",
    "        self.tail = None\n",
    "    \n",
    "    def insert_at_beginning(self,data):\n",
    "        new_node = Node(data)\n",
    "        if self.head:\n",
    "            new_node.next = self.head\n",
    "            self.head = new_node\n",
    "        else:\n",
    "            self.head = new_node\n",
    "            self.tail = new_node\n",
    "\n",
    "\n",
    "    def insert_at_end(self,data):\n",
    "        new_node = Node(data)\n",
    "        if self.head:\n",
    "            self.tail.next = new_node\n",
    "            self.tail = new_node\n",
    "        else: \n",
    "            self.head = new_node \n",
    "            self.tail = new_node\n",
    "\n",
    "    def search(self,data):\n",
    "        current_node = self.head\n",
    "        while current_node: \n",
    "            if current_node.data == data: \n",
    "                return True \n",
    "            else: \n",
    "                current_node = current_node.next\n",
    "        return False \n",
    "\n",
    "    def print_list(self):\n",
    "        head = self.head\n",
    "        while head:\n",
    "            print(head.data, end=\" -> \")\n",
    "            head = head.next\n",
    "        print(\"End\")"
   ]
  },
  {
   "cell_type": "code",
   "execution_count": 20,
   "id": "1ea7b8f0",
   "metadata": {},
   "outputs": [],
   "source": [
    "Manufacturing_sequence = LinkedList()\n",
    "Manufacturing_sequence.insert_at_beginning(\"Assemble\")\n",
    "Manufacturing_sequence.insert_at_end(\"Quality_Check\")\n",
    "Manufacturing_sequence.insert_at_end(\"Product_finished\")\n"
   ]
  },
  {
   "cell_type": "code",
   "execution_count": 21,
   "id": "a832a230",
   "metadata": {},
   "outputs": [
    {
     "name": "stdout",
     "output_type": "stream",
     "text": [
      "Assemble -> Quality_Check -> Product_finished -> End\n"
     ]
    }
   ],
   "source": [
    "Manufacturing_sequence.print_list()"
   ]
  },
  {
   "cell_type": "code",
   "execution_count": null,
   "id": "d55ae8e4",
   "metadata": {},
   "outputs": [],
   "source": []
  }
 ],
 "metadata": {
  "kernelspec": {
   "display_name": "base",
   "language": "python",
   "name": "python3"
  },
  "language_info": {
   "codemirror_mode": {
    "name": "ipython",
    "version": 3
   },
   "file_extension": ".py",
   "mimetype": "text/x-python",
   "name": "python",
   "nbconvert_exporter": "python",
   "pygments_lexer": "ipython3",
   "version": "3.12.2"
  }
 },
 "nbformat": 4,
 "nbformat_minor": 5
}
