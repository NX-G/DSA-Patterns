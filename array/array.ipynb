{
 "cells": [
  {
   "cell_type": "markdown",
   "id": "8f9b4ddd",
   "metadata": {},
   "source": [
    "## Array\n",
    "\n",
    "### Access"
   ]
  },
  {
   "cell_type": "code",
   "execution_count": 3,
   "id": "981794fc",
   "metadata": {},
   "outputs": [
    {
     "name": "stdout",
     "output_type": "stream",
     "text": [
      "Array Index Access : 10\n",
      "Array Reverse Index Access : 40\n",
      "Array Slice Index Access : [10, 20, 30]\n"
     ]
    }
   ],
   "source": [
    "Arr = [10,20,30,40]\n",
    "\n",
    "\n",
    "print(f\"Array Index Access : {Arr[0]}\")\n",
    "print(f\"Array Reverse Index Access : {Arr[-1]}\")\n",
    "\n",
    "print(f\"Array Slice Index Access : {Arr[0:3]}\")"
   ]
  },
  {
   "cell_type": "markdown",
   "id": "5b7a3626",
   "metadata": {},
   "source": [
    "## Traversal"
   ]
  },
  {
   "cell_type": "code",
   "execution_count": 7,
   "id": "f2e222ea",
   "metadata": {},
   "outputs": [
    {
     "name": "stdout",
     "output_type": "stream",
     "text": [
      "Value Loop based\n",
      "10\n",
      "20\n",
      "30\n",
      "40\n",
      "Index based\n",
      "10\n",
      "20\n",
      "30\n",
      "40\n"
     ]
    }
   ],
   "source": [
    "print(\"Value Loop based\")\n",
    "for val in Arr:\n",
    "    print(val)\n",
    "\n",
    "print(\"Index based\")\n",
    "for idx in  range(len(Arr)):\n",
    "    print(Arr[idx])"
   ]
  },
  {
   "cell_type": "markdown",
   "id": "74603e55",
   "metadata": {},
   "source": [
    "## Search"
   ]
  },
  {
   "cell_type": "code",
   "execution_count": 18,
   "id": "d3f6acf9",
   "metadata": {},
   "outputs": [
    {
     "name": "stdout",
     "output_type": "stream",
     "text": [
      "Available\n",
      "Index of 30 is 2\n",
      "Available\n"
     ]
    }
   ],
   "source": [
    "if 30 in Arr:\n",
    "    print(\"Available\")\n",
    "\n",
    "idx = Arr.index(30)\n",
    "print(f\"Index of 30 is {idx}\")\n",
    "\n",
    "\n",
    "# Linear Search\n",
    "for idx,value in enumerate(Arr):\n",
    "    if value == 30:\n",
    "        print(\"Available\")"
   ]
  },
  {
   "cell_type": "markdown",
   "id": "8c560826",
   "metadata": {},
   "source": [
    "## Sort"
   ]
  },
  {
   "cell_type": "code",
   "execution_count": 22,
   "id": "5afeca99",
   "metadata": {},
   "outputs": [
    {
     "name": "stdout",
     "output_type": "stream",
     "text": [
      "Sorted Array [10, 20, 30, 40]\n"
     ]
    }
   ],
   "source": [
    "# Ascending\n",
    "Arr.sort() \n",
    "# Descending\n",
    "Arr.sort(reverse=True)\n",
    "# Absoult Value\n",
    "Arr.sort(key=abs)\n",
    "\n",
    "# New list\n",
    "sorted_arr = sorted(Arr) \n",
    "print(f\"Sorted Array {sorted_arr}\")"
   ]
  },
  {
   "cell_type": "code",
   "execution_count": null,
   "id": "dffced38",
   "metadata": {},
   "outputs": [],
   "source": []
  }
 ],
 "metadata": {
  "kernelspec": {
   "display_name": "base",
   "language": "python",
   "name": "python3"
  },
  "language_info": {
   "codemirror_mode": {
    "name": "ipython",
    "version": 3
   },
   "file_extension": ".py",
   "mimetype": "text/x-python",
   "name": "python",
   "nbconvert_exporter": "python",
   "pygments_lexer": "ipython3",
   "version": "3.12.2"
  }
 },
 "nbformat": 4,
 "nbformat_minor": 5
}
