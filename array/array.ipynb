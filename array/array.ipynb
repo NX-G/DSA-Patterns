{
 "cells": [
  {
   "cell_type": "markdown",
   "id": "8f9b4ddd",
   "metadata": {},
   "source": [
    "## Array\n",
    "\n",
    "### Access"
   ]
  },
  {
   "cell_type": "code",
   "execution_count": 3,
   "id": "981794fc",
   "metadata": {},
   "outputs": [
    {
     "name": "stdout",
     "output_type": "stream",
     "text": [
      "Array Index Access : 10\n",
      "Array Reverse Index Access : 40\n",
      "Array Slice Index Access : [10, 20, 30]\n"
     ]
    }
   ],
   "source": [
    "Arr = [10,20,30,40]\n",
    "\n",
    "\n",
    "print(f\"Array Index Access : {Arr[0]}\")\n",
    "print(f\"Array Reverse Index Access : {Arr[-1]}\")\n",
    "\n",
    "print(f\"Array Slice Index Access : {Arr[0:3]}\")"
   ]
  },
  {
   "cell_type": "code",
   "execution_count": null,
   "id": "d3f6acf9",
   "metadata": {},
   "outputs": [],
   "source": []
  }
 ],
 "metadata": {
  "kernelspec": {
   "display_name": "base",
   "language": "python",
   "name": "python3"
  },
  "language_info": {
   "codemirror_mode": {
    "name": "ipython",
    "version": 3
   },
   "file_extension": ".py",
   "mimetype": "text/x-python",
   "name": "python",
   "nbconvert_exporter": "python",
   "pygments_lexer": "ipython3",
   "version": "3.12.2"
  }
 },
 "nbformat": 4,
 "nbformat_minor": 5
}
